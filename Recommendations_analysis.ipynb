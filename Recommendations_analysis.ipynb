{
 "cells": [
  {
   "cell_type": "markdown",
   "metadata": {},
   "source": [
    "# Problem Statement\n",
    "\n",
    "We would like to add a feature for recommended tickers and weights. "
   ]
  },
  {
   "cell_type": "markdown",
   "metadata": {},
   "source": [
    "\n",
    "## High Level Design\n",
    "\n",
    "* This can be run weekly/fortnightly. \n",
    "\n",
    "* We will download data for the top 50 tickers for a given index. \n",
    "\n",
    "* Get the sharpe ratios based on criteria - 5 years data, 2 years data, 1 year data. Average them out and take the top 20, discard the rest\n",
    "\n",
    "* Use the top 20, run Efficient Frontier for min volatility and max sharpe. Display these data with some text explanation (**ChatGPT??**)\n"
   ]
  },
  {
   "cell_type": "code",
   "execution_count": 29,
   "metadata": {},
   "outputs": [],
   "source": [
    "import pandas as pd\n",
    "import json \n",
    "\n",
    "from UtilFuncs.get_yfinance_data import *"
   ]
  },
  {
   "cell_type": "markdown",
   "metadata": {},
   "source": [
    "### Step1: Download all data  "
   ]
  },
  {
   "cell_type": "code",
   "execution_count": 30,
   "metadata": {},
   "outputs": [],
   "source": [
    "index_to_run = \"^AXJO\""
   ]
  },
  {
   "cell_type": "code",
   "execution_count": 31,
   "metadata": {},
   "outputs": [],
   "source": [
    "\n",
    "# Get all tickers for this index\n",
    "with open('Resources/symbols_list.json', 'r') as json_file:\n",
    "    symbols_dict = json.load(json_file)\n",
    "\n",
    "tickers_names = symbols_dict[index_to_run]\n",
    "tickers_all = [ticker.split(\":\")[0] for ticker in tickers_names]\n",
    "# tickers_all"
   ]
  },
  {
   "cell_type": "code",
   "execution_count": 52,
   "metadata": {},
   "outputs": [
    {
     "name": "stdout",
     "output_type": "stream",
     "text": [
      "['CBA.AX', 'BHP.AX', 'CSL.AX', 'WBC.AX', 'ANZ.AX']\n",
      "[*********************100%%**********************]  5 of 5 completed\n",
      "['FMG.AX', 'NAB.AX', 'MQG.AX', 'GMG.AX', 'WOW.AX']\n",
      "[*********************100%%**********************]  5 of 5 completed\n",
      "['WES.AX', 'TLS.AX', 'RIO.AX', 'WDS.AX', 'TCL.AX']\n",
      "[*********************100%%**********************]  5 of 5 completed\n",
      "['SQ2.AX', 'ALL.AX', 'COL.AX', 'SCG.AX', 'S32.AX']\n",
      "[*********************100%%**********************]  5 of 5 completed\n",
      "['NCM.AX', 'SUN.AX', 'QBE.AX', 'BXB.AX', 'FPH.AX']\n",
      "[*********************100%%**********************]  5 of 5 completed\n",
      "['COH.AX', 'ASX.AX', 'STO.AX', 'RHC.AX', 'AMC.AX']\n",
      "[*********************100%%**********************]  5 of 5 completed\n",
      "['ORG.AX', 'IAG.AX', 'SHL.AX', 'DXS.AX', 'BSL.AX']\n",
      "[*********************100%%**********************]  5 of 5 completed\n",
      "['APA.AX', 'TWE.AX', 'REA.AX', 'AIA.AX', 'DMP.AX']\n",
      "[*********************100%%**********************]  5 of 5 completed\n",
      "['CPU.AX', 'TAH.AX', 'VCX.AX', 'MGR.AX', 'QAN.AX']\n",
      "[*********************100%%**********************]  5 of 5 completed\n",
      "['GPT.AX', 'EVN.AX', 'SGP.AX', 'BLD.AX', 'MPL.AX']\n",
      "[*********************100%%**********************]  5 of 5 completed\n"
     ]
    }
   ],
   "source": [
    "df_prices_all = pd.DataFrame()\n",
    "# We'll run in batches of 5 to support multithreading\n",
    "for i in range(10):\n",
    "    start_index = 5 * i \n",
    "    end_index = start_index + 5\n",
    "    tickers = tickers_all[start_index:end_index]\n",
    "    print(tickers)\n",
    "\n",
    "    if len(df_prices_all) == 0: \n",
    "\n",
    "        df_prices_all = get_securities_prices(tickers=tickers, download_tnx=False)\n",
    "\n",
    "    else: \n",
    "\n",
    "        df_prices_all = pd.concat([df_prices_all, get_securities_prices(tickers=tickers, download_tnx=False)], axis=\"columns\") \n",
    "\n"
   ]
  },
  {
   "cell_type": "code",
   "execution_count": 53,
   "metadata": {},
   "outputs": [
    {
     "name": "stdout",
     "output_type": "stream",
     "text": [
      "(2529, 50)\n"
     ]
    }
   ],
   "source": [
    "print(df_prices_all.shape)"
   ]
  },
  {
   "cell_type": "code",
   "execution_count": 55,
   "metadata": {},
   "outputs": [],
   "source": [
    "df_prices_all.to_csv(f\"Resources/Recommendations_{index_to_run}_stocks_data.csv\")"
   ]
  },
  {
   "cell_type": "code",
   "execution_count": null,
   "metadata": {},
   "outputs": [],
   "source": []
  }
 ],
 "metadata": {
  "kernelspec": {
   "display_name": "dev_fintech_course",
   "language": "python",
   "name": "python3"
  },
  "language_info": {
   "codemirror_mode": {
    "name": "ipython",
    "version": 3
   },
   "file_extension": ".py",
   "mimetype": "text/x-python",
   "name": "python",
   "nbconvert_exporter": "python",
   "pygments_lexer": "ipython3",
   "version": "3.10.11"
  },
  "orig_nbformat": 4
 },
 "nbformat": 4,
 "nbformat_minor": 2
}
