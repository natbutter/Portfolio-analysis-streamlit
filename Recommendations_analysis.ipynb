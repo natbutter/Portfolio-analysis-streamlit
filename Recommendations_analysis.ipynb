{
 "cells": [
  {
   "cell_type": "markdown",
   "metadata": {},
   "source": [
    "# Problem Statement\n",
    "\n",
    "We would like to add a feature for recommended tickers and weights. \n",
    "\n",
    "## High Level Design\n",
    "\n",
    "* This can be run weekly/fortnightly. \n",
    "\n",
    "* We will download data for the top 50 tickers for a given index. \n",
    "\n",
    "* Get the sharpe ratios based on criteria - 5 years data, 2 years data, 1 year data. Average them out and take the top 20, discard the rest\n",
    "\n",
    "* Use the top 20, run Efficient Frontier for min volatility and max sharpe. Display these data with some text explanation (**ChatGPT??**)\n"
   ]
  },
  {
   "cell_type": "code",
   "execution_count": null,
   "metadata": {},
   "outputs": [],
   "source": []
  }
 ],
 "metadata": {
  "language_info": {
   "name": "python"
  },
  "orig_nbformat": 4
 },
 "nbformat": 4,
 "nbformat_minor": 2
}
