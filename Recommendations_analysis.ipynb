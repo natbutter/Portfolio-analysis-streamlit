{
 "cells": [
  {
   "cell_type": "markdown",
   "metadata": {},
   "source": [
    "# Problem Statement\n",
    "\n",
    "We would like to add a feature for recommended tickers and weights. "
   ]
  },
  {
   "cell_type": "markdown",
   "metadata": {},
   "source": [
    "\n",
    "## High Level Design\n",
    "\n",
    "* This can be run weekly/fortnightly. \n",
    "\n",
    "* We will download data for the top 50 tickers for a given index. \n",
    "\n",
    "* Get the sharpe ratios based on criteria - 5 years data, 2 years data, 1 year data. Average them out and take the top 20, discard the rest\n",
    "\n",
    "* Use the top 20, run Efficient Frontier for min volatility and max sharpe. Display these data with some text explanation (**ChatGPT??**)\n"
   ]
  },
  {
   "cell_type": "code",
   "execution_count": 1,
   "metadata": {},
   "outputs": [],
   "source": [
    "import pandas as pd\n",
    "import json \n",
    "\n",
    "from UtilFuncs import *"
   ]
  },
  {
   "cell_type": "markdown",
   "metadata": {},
   "source": [
    "### Step1: Download all data  "
   ]
  },
  {
   "cell_type": "code",
   "execution_count": null,
   "metadata": {},
   "outputs": [],
   "source": [
    "index = \"^AXJO\"\n",
    "\n",
    "# Get all tickers for this index\n",
    "tickers_list = "
   ]
  }
 ],
 "metadata": {
  "kernelspec": {
   "display_name": "dev_fintech_course",
   "language": "python",
   "name": "python3"
  },
  "language_info": {
   "codemirror_mode": {
    "name": "ipython",
    "version": 3
   },
   "file_extension": ".py",
   "mimetype": "text/x-python",
   "name": "python",
   "nbconvert_exporter": "python",
   "pygments_lexer": "ipython3",
   "version": "3.10.11"
  },
  "orig_nbformat": 4
 },
 "nbformat": 4,
 "nbformat_minor": 2
}
